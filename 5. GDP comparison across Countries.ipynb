{
 "cells": [
  {
   "cell_type": "code",
   "execution_count": 1,
   "id": "cd41991a",
   "metadata": {},
   "outputs": [],
   "source": [
    "import pandas as pd\n",
    "import plotly.express as px\n",
    "import plotly.offline as po"
   ]
  },
  {
   "cell_type": "code",
   "execution_count": 2,
   "id": "a51fc1ad",
   "metadata": {},
   "outputs": [],
   "source": [
    "df = pd.read_csv('gdp.csv')"
   ]
  },
  {
   "cell_type": "code",
   "execution_count": 3,
   "id": "69dc3644",
   "metadata": {},
   "outputs": [
    {
     "data": {
      "text/html": [
       "<div>\n",
       "<style scoped>\n",
       "    .dataframe tbody tr th:only-of-type {\n",
       "        vertical-align: middle;\n",
       "    }\n",
       "\n",
       "    .dataframe tbody tr th {\n",
       "        vertical-align: top;\n",
       "    }\n",
       "\n",
       "    .dataframe thead th {\n",
       "        text-align: right;\n",
       "    }\n",
       "</style>\n",
       "<table border=\"1\" class=\"dataframe\">\n",
       "  <thead>\n",
       "    <tr style=\"text-align: right;\">\n",
       "      <th></th>\n",
       "      <th>Country Name</th>\n",
       "      <th>Country Code</th>\n",
       "      <th>Year</th>\n",
       "      <th>Value</th>\n",
       "      <th>GDP</th>\n",
       "    </tr>\n",
       "  </thead>\n",
       "  <tbody>\n",
       "    <tr>\n",
       "      <th>0</th>\n",
       "      <td>Arab World</td>\n",
       "      <td>ARB</td>\n",
       "      <td>1968</td>\n",
       "      <td>2.576068e+10</td>\n",
       "      <td>0.00</td>\n",
       "    </tr>\n",
       "    <tr>\n",
       "      <th>1</th>\n",
       "      <td>Arab World</td>\n",
       "      <td>ARB</td>\n",
       "      <td>1969</td>\n",
       "      <td>2.843420e+10</td>\n",
       "      <td>10.38</td>\n",
       "    </tr>\n",
       "    <tr>\n",
       "      <th>2</th>\n",
       "      <td>Arab World</td>\n",
       "      <td>ARB</td>\n",
       "      <td>1970</td>\n",
       "      <td>3.138550e+10</td>\n",
       "      <td>10.38</td>\n",
       "    </tr>\n",
       "    <tr>\n",
       "      <th>3</th>\n",
       "      <td>Arab World</td>\n",
       "      <td>ARB</td>\n",
       "      <td>1971</td>\n",
       "      <td>3.642691e+10</td>\n",
       "      <td>16.06</td>\n",
       "    </tr>\n",
       "    <tr>\n",
       "      <th>4</th>\n",
       "      <td>Arab World</td>\n",
       "      <td>ARB</td>\n",
       "      <td>1972</td>\n",
       "      <td>4.331606e+10</td>\n",
       "      <td>18.91</td>\n",
       "    </tr>\n",
       "  </tbody>\n",
       "</table>\n",
       "</div>"
      ],
      "text/plain": [
       "  Country Name Country Code  Year         Value    GDP\n",
       "0   Arab World          ARB  1968  2.576068e+10   0.00\n",
       "1   Arab World          ARB  1969  2.843420e+10  10.38\n",
       "2   Arab World          ARB  1970  3.138550e+10  10.38\n",
       "3   Arab World          ARB  1971  3.642691e+10  16.06\n",
       "4   Arab World          ARB  1972  4.331606e+10  18.91"
      ]
     },
     "execution_count": 3,
     "metadata": {},
     "output_type": "execute_result"
    }
   ],
   "source": [
    "final_data = []\n",
    "\n",
    "for code in df['Country Code'].unique():\n",
    "\n",
    "    df_pr = df[df['Country Code'] == code]\n",
    "\n",
    "    data = df_pr.values\n",
    "    gdp_change = [0]\n",
    "\n",
    "    for i in range(1, len(data)):\n",
    "\n",
    "        prev = data[i-1][3]\n",
    "        cur = data[i][3]\n",
    "\n",
    "        gdp_change.append(round(((cur-prev)/prev)*100, 2))\n",
    "\n",
    "    df_pr = df_pr.assign(GDP = gdp_change)\n",
    "\n",
    "    final_data.append(df_pr)\n",
    "\n",
    "df = pd.concat(final_data, axis = 0)\n",
    "\n",
    "df.head()"
   ]
  },
  {
   "cell_type": "markdown",
   "id": "aea28e21",
   "metadata": {},
   "source": [
    "## GDP of all Countries"
   ]
  },
  {
   "cell_type": "code",
   "execution_count": 4,
   "id": "2949ca0e",
   "metadata": {},
   "outputs": [
    {
     "data": {
      "text/plain": [
       "'Countries GDP.html'"
      ]
     },
     "execution_count": 4,
     "metadata": {},
     "output_type": "execute_result"
    }
   ],
   "source": [
    "fig = px.line(df, x = 'Year', y = 'Value', \n",
    "              title = 'All countries GDP Analysis', \n",
    "              color = 'Country Name')\n",
    "po.plot(fig, filename = 'Countries GDP.html')"
   ]
  },
  {
   "cell_type": "markdown",
   "id": "271b645b",
   "metadata": {},
   "source": [
    "## GDP Comparison between China & India "
   ]
  },
  {
   "cell_type": "code",
   "execution_count": 5,
   "id": "a237243f",
   "metadata": {},
   "outputs": [],
   "source": [
    "c1 = df[df['Country Name'] == 'China']\n",
    "c2 = df[df['Country Name'] == 'India']"
   ]
  },
  {
   "cell_type": "code",
   "execution_count": 6,
   "id": "90724983",
   "metadata": {},
   "outputs": [
    {
     "data": {
      "text/html": [
       "<div>\n",
       "<style scoped>\n",
       "    .dataframe tbody tr th:only-of-type {\n",
       "        vertical-align: middle;\n",
       "    }\n",
       "\n",
       "    .dataframe tbody tr th {\n",
       "        vertical-align: top;\n",
       "    }\n",
       "\n",
       "    .dataframe thead th {\n",
       "        text-align: right;\n",
       "    }\n",
       "</style>\n",
       "<table border=\"1\" class=\"dataframe\">\n",
       "  <thead>\n",
       "    <tr style=\"text-align: right;\">\n",
       "      <th></th>\n",
       "      <th>Country Name</th>\n",
       "      <th>Country Code</th>\n",
       "      <th>Year</th>\n",
       "      <th>Value</th>\n",
       "      <th>GDP</th>\n",
       "    </tr>\n",
       "  </thead>\n",
       "  <tbody>\n",
       "    <tr>\n",
       "      <th>4046</th>\n",
       "      <td>China</td>\n",
       "      <td>CHN</td>\n",
       "      <td>1960</td>\n",
       "      <td>5.971647e+10</td>\n",
       "      <td>0.00</td>\n",
       "    </tr>\n",
       "    <tr>\n",
       "      <th>4047</th>\n",
       "      <td>China</td>\n",
       "      <td>CHN</td>\n",
       "      <td>1961</td>\n",
       "      <td>5.005687e+10</td>\n",
       "      <td>-16.18</td>\n",
       "    </tr>\n",
       "    <tr>\n",
       "      <th>4048</th>\n",
       "      <td>China</td>\n",
       "      <td>CHN</td>\n",
       "      <td>1962</td>\n",
       "      <td>4.720936e+10</td>\n",
       "      <td>-5.69</td>\n",
       "    </tr>\n",
       "    <tr>\n",
       "      <th>4049</th>\n",
       "      <td>China</td>\n",
       "      <td>CHN</td>\n",
       "      <td>1963</td>\n",
       "      <td>5.070680e+10</td>\n",
       "      <td>7.41</td>\n",
       "    </tr>\n",
       "    <tr>\n",
       "      <th>4050</th>\n",
       "      <td>China</td>\n",
       "      <td>CHN</td>\n",
       "      <td>1964</td>\n",
       "      <td>5.970834e+10</td>\n",
       "      <td>17.75</td>\n",
       "    </tr>\n",
       "    <tr>\n",
       "      <th>...</th>\n",
       "      <td>...</td>\n",
       "      <td>...</td>\n",
       "      <td>...</td>\n",
       "      <td>...</td>\n",
       "      <td>...</td>\n",
       "    </tr>\n",
       "    <tr>\n",
       "      <th>6126</th>\n",
       "      <td>India</td>\n",
       "      <td>IND</td>\n",
       "      <td>2012</td>\n",
       "      <td>1.827638e+12</td>\n",
       "      <td>0.25</td>\n",
       "    </tr>\n",
       "    <tr>\n",
       "      <th>6127</th>\n",
       "      <td>India</td>\n",
       "      <td>IND</td>\n",
       "      <td>2013</td>\n",
       "      <td>1.856722e+12</td>\n",
       "      <td>1.59</td>\n",
       "    </tr>\n",
       "    <tr>\n",
       "      <th>6128</th>\n",
       "      <td>India</td>\n",
       "      <td>IND</td>\n",
       "      <td>2014</td>\n",
       "      <td>2.035393e+12</td>\n",
       "      <td>9.62</td>\n",
       "    </tr>\n",
       "    <tr>\n",
       "      <th>6129</th>\n",
       "      <td>India</td>\n",
       "      <td>IND</td>\n",
       "      <td>2015</td>\n",
       "      <td>2.089865e+12</td>\n",
       "      <td>2.68</td>\n",
       "    </tr>\n",
       "    <tr>\n",
       "      <th>6130</th>\n",
       "      <td>India</td>\n",
       "      <td>IND</td>\n",
       "      <td>2016</td>\n",
       "      <td>2.263792e+12</td>\n",
       "      <td>8.32</td>\n",
       "    </tr>\n",
       "  </tbody>\n",
       "</table>\n",
       "<p>114 rows × 5 columns</p>\n",
       "</div>"
      ],
      "text/plain": [
       "     Country Name Country Code  Year         Value    GDP\n",
       "4046        China          CHN  1960  5.971647e+10   0.00\n",
       "4047        China          CHN  1961  5.005687e+10 -16.18\n",
       "4048        China          CHN  1962  4.720936e+10  -5.69\n",
       "4049        China          CHN  1963  5.070680e+10   7.41\n",
       "4050        China          CHN  1964  5.970834e+10  17.75\n",
       "...           ...          ...   ...           ...    ...\n",
       "6126        India          IND  2012  1.827638e+12   0.25\n",
       "6127        India          IND  2013  1.856722e+12   1.59\n",
       "6128        India          IND  2014  2.035393e+12   9.62\n",
       "6129        India          IND  2015  2.089865e+12   2.68\n",
       "6130        India          IND  2016  2.263792e+12   8.32\n",
       "\n",
       "[114 rows x 5 columns]"
      ]
     },
     "execution_count": 6,
     "metadata": {},
     "output_type": "execute_result"
    }
   ],
   "source": [
    "df_pr = pd.concat([c1, c2], axis = 0)\n",
    "df_pr"
   ]
  },
  {
   "cell_type": "code",
   "execution_count": 7,
   "id": "fe912417",
   "metadata": {},
   "outputs": [
    {
     "data": {
      "text/plain": [
       "'GDP Comparison CHN & IND.html'"
      ]
     },
     "execution_count": 7,
     "metadata": {},
     "output_type": "execute_result"
    }
   ],
   "source": [
    "fig = px.line(df_pr, x = 'Year', y = 'Value', \n",
    "              title = 'GDP comparison between China & India', \n",
    "              color = 'Country Name')\n",
    "\n",
    "po.plot(fig, filename = 'GDP Comparison CHN & IND.html')"
   ]
  },
  {
   "cell_type": "markdown",
   "id": "a728fe40",
   "metadata": {},
   "source": [
    "## GDP comparison between World, India & Japan"
   ]
  },
  {
   "cell_type": "code",
   "execution_count": 8,
   "id": "c9177e5f",
   "metadata": {
    "scrolled": false
   },
   "outputs": [
    {
     "data": {
      "text/plain": [
       "'GDP Comparison World, IND, JPN.html'"
      ]
     },
     "execution_count": 8,
     "metadata": {},
     "output_type": "execute_result"
    }
   ],
   "source": [
    "c1 = df[df['Country Name'] == 'World']\n",
    "c2 = df[df['Country Name'] == 'India']\n",
    "c3 = df[df['Country Name'] == 'Japan']\n",
    "\n",
    "\n",
    "df_pr = pd.concat([c1, c2, c3], axis = 0)\n",
    "\n",
    "fig1 = px.line(df_pr, x = 'Year', y = 'Value', \n",
    "              title = 'GDP comparison | World & India & Japan', \n",
    "              color = 'Country Name')\n",
    "\n",
    "po.plot(fig1, filename = 'GDP Comparison World, IND, JPN.html')"
   ]
  },
  {
   "cell_type": "markdown",
   "id": "e1d28f57",
   "metadata": {},
   "source": [
    "## GDP Comparison between Specific Countries"
   ]
  },
  {
   "cell_type": "code",
   "execution_count": 9,
   "id": "33efe714",
   "metadata": {},
   "outputs": [],
   "source": [
    "lst = ['JPN', 'IND', 'USA', 'CHN']\n",
    "\n",
    "dfs = []\n",
    "\n",
    "for i in lst:\n",
    "    dfs.append(df[df['Country Code'] == i])\n",
    "    df_pr = pd.concat(dfs, axis = 0)"
   ]
  },
  {
   "cell_type": "code",
   "execution_count": 10,
   "id": "d819fde6",
   "metadata": {},
   "outputs": [
    {
     "data": {
      "text/plain": [
       "'JPN-IND-USA-CHN.html'"
      ]
     },
     "execution_count": 10,
     "metadata": {},
     "output_type": "execute_result"
    }
   ],
   "source": [
    "fig = px.line(df_pr, x = 'Year', y = 'Value', \n",
    "                title = 'GDP Comparison - ' + '|'.join(lst), \n",
    "                color = 'Country Name')\n",
    "\n",
    "po.plot(fig, filename = '-'.join(lst) + '.html')"
   ]
  },
  {
   "cell_type": "code",
   "execution_count": 11,
   "id": "18742de3",
   "metadata": {},
   "outputs": [],
   "source": [
    "# Definig Function for automation\n",
    "\n",
    "def compare_gdp(lst, isopen):\n",
    "    dfs = []\n",
    "    for i in lst:\n",
    "        dfs.append(df[df['Country Code'] == i])\n",
    "        df_pr = pd.concat(dfs, axis = 0)\n",
    "        \n",
    "    fig = px.line(df_pr, x = 'Year', y = 'Value', \n",
    "                title = 'GDP Comparison - ' + '|'.join(lst), \n",
    "                color = 'Country Name')\n",
    "    po.plot(fig, filename = '-'.join(lst) + '.html', auto_open = isopen)"
   ]
  },
  {
   "cell_type": "code",
   "execution_count": 12,
   "id": "7bc489ce",
   "metadata": {},
   "outputs": [],
   "source": [
    "# Passing two arguments - 1. Country code list, 2. Graph open True/False\n",
    "\n",
    "compare_gdp(['JPN', 'IND', 'USA'], True)"
   ]
  },
  {
   "cell_type": "code",
   "execution_count": null,
   "id": "736fc239",
   "metadata": {},
   "outputs": [],
   "source": []
  }
 ],
 "metadata": {
  "kernelspec": {
   "display_name": "Python 3 (ipykernel)",
   "language": "python",
   "name": "python3"
  },
  "language_info": {
   "codemirror_mode": {
    "name": "ipython",
    "version": 3
   },
   "file_extension": ".py",
   "mimetype": "text/x-python",
   "name": "python",
   "nbconvert_exporter": "python",
   "pygments_lexer": "ipython3",
   "version": "3.11.5"
  }
 },
 "nbformat": 4,
 "nbformat_minor": 5
}
